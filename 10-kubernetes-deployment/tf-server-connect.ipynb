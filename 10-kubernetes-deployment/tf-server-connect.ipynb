{
 "cells": [
  {
   "cell_type": "code",
   "execution_count": 5,
   "metadata": {},
   "outputs": [],
   "source": [
    "import grpc\n",
    "import tensorflow as tf\n",
    "\n",
    "from tensorflow_serving.apis import predict_pb2\n",
    "from tensorflow_serving.apis import prediction_service_pb2_grpc\n",
    "\n",
    "from keras_image_helper import create_preprocessor"
   ]
  },
  {
   "cell_type": "code",
   "execution_count": 7,
   "metadata": {},
   "outputs": [],
   "source": [
    "host = \"localhost:8500\"\n",
    "\n",
    "# initializing channel, later we will use kubernetes and connection to tf-serving will be in internal part so we can use insecure channel\n",
    "channel = grpc.insecure_channel(host)\n",
    "stub = prediction_service_pb2_grpc.PredictionServiceStub(channel)"
   ]
  },
  {
   "cell_type": "code",
   "execution_count": 13,
   "metadata": {},
   "outputs": [],
   "source": [
    "url = \"http://bit.ly/mlbookcamp-pants\"\n",
    "\n",
    "preprocessor = create_preprocessor(\"xception\", target_size=(299,299))\n",
    "\n",
    "X = preprocessor.from_url(url)"
   ]
  },
  {
   "cell_type": "code",
   "execution_count": 16,
   "metadata": {},
   "outputs": [],
   "source": [
    "pb_request = predict_pb2.PredictRequest()\n",
    "\n",
    "#defining parameters using model-description: name, signature_name, name of the input\n",
    "pb_request.model_spec.name = \"clothing-model\"\n",
    "pb_request.model_spec.signature_name = \"serving_default\"\n",
    "\n",
    "#function of converting numpy to protobuff\n",
    "def np_2_protobuf(data):\n",
    "    return tf.make_tensor_proto(data, shape=data.shape)\n",
    "\n",
    "pb_request.inputs[\"input_8\"].CopyFrom(np_2_protobuf(X))"
   ]
  },
  {
   "cell_type": "code",
   "execution_count": 20,
   "metadata": {},
   "outputs": [],
   "source": [
    "pb_response = stub.Predict(pb_request, timeout=20)"
   ]
  },
  {
   "cell_type": "code",
   "execution_count": 30,
   "metadata": {},
   "outputs": [
    {
     "data": {
      "text/plain": [
       "{'dress': -1.8682893514633179,\n",
       " 'hat': -4.761244773864746,\n",
       " 'longsleeve': -2.3169822692871094,\n",
       " 'outwear': -1.0625706911087036,\n",
       " 'pants': 9.88715934753418,\n",
       " 'shirt': -2.8124325275421143,\n",
       " 'shoes': -3.6662826538085938,\n",
       " 'shorts': 3.2003581523895264,\n",
       " 'skirt': -2.6023366451263428,\n",
       " 't-shirt': -4.835046291351318}"
      ]
     },
     "execution_count": 30,
     "metadata": {},
     "output_type": "execute_result"
    }
   ],
   "source": [
    "predicted_values = pb_response.outputs[\"dense_7\"].float_val\n",
    "labels = [\n",
    "    'dress',\n",
    "    'hat',\n",
    "    'longsleeve',\n",
    "    'outwear',\n",
    "    'pants',\n",
    "    'shirt',\n",
    "    'shoes',\n",
    "    'shorts',\n",
    "    'skirt',\n",
    "    't-shirt'\n",
    "]\n",
    "\n",
    "result = dict(zip(labels, predicted_values))"
   ]
  }
 ],
 "metadata": {
  "kernelspec": {
   "display_name": "Python 3.9.12 ('base')",
   "language": "python",
   "name": "python3"
  },
  "language_info": {
   "codemirror_mode": {
    "name": "ipython",
    "version": 3
   },
   "file_extension": ".py",
   "mimetype": "text/x-python",
   "name": "python",
   "nbconvert_exporter": "python",
   "pygments_lexer": "ipython3",
   "version": "3.9.12"
  },
  "orig_nbformat": 4,
  "vscode": {
   "interpreter": {
    "hash": "3896c710eaa6118cd87eb3929cad6bf103bd6fc939f7f0fa4f0adcbb9cf36bf7"
   }
  }
 },
 "nbformat": 4,
 "nbformat_minor": 2
}
