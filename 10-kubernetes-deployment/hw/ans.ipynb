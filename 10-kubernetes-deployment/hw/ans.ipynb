{
 "cells": [
  {
   "cell_type": "code",
   "execution_count": 1,
   "metadata": {},
   "outputs": [
    {
     "name": "stdout",
     "output_type": "stream",
     "text": [
      "{'get_card': True, 'get_card_probability': 0.7692649226628628}\n"
     ]
    }
   ],
   "source": [
    "import requests\n",
    "\n",
    "# Question 1\n",
    "url = \"http://127.0.0.1:9696/predict\"\n",
    "\n",
    "client = {\n",
    "    \"reports\": 0,\n",
    "    \"share\": 0.245,\n",
    "    \"expenditure\": 3.438,\n",
    "    \"owner\": \"yes\"\n",
    "    }\n",
    "test = {\n",
    "    \"reports\": 0,\n",
    "    \"share\": 0.001694,\n",
    "    \"expenditure\": 0.12,\n",
    "    \"owner\": \"yes\"\n",
    "    }\n",
    "\n",
    "response = requests.post(\n",
    "                        url=url,\n",
    "                        json=client\n",
    "                        ).json()\n",
    "                    \n",
    "print(response)"
   ]
  },
  {
   "cell_type": "code",
   "execution_count": 3,
   "metadata": {},
   "outputs": [
    {
     "name": "stdout",
     "output_type": "stream",
     "text": [
      "kind version 0.17.0\n"
     ]
    }
   ],
   "source": [
    "!kind --version\n",
    "# Question 2"
   ]
  },
  {
   "cell_type": "markdown",
   "metadata": {},
   "source": [
    "kind create cluster\n",
    "kubectl cluster-info --context kind-kind \n",
    ">\n",
    "Kubernetes control plane is running at https://127.0.0.1:46391\n",
    "CoreDNS is running at https://127.0.0.1:46391/api/v1/namespaces/kube-system/services/kube-dns:dns/proxy"
   ]
  },
  {
   "cell_type": "code",
   "execution_count": 4,
   "metadata": {},
   "outputs": [],
   "source": [
    "# Question 3 == pod"
   ]
  },
  {
   "cell_type": "code",
   "execution_count": 6,
   "metadata": {},
   "outputs": [],
   "source": [
    "# Question 4 == ClusterIP"
   ]
  },
  {
   "cell_type": "markdown",
   "metadata": {},
   "source": [
    "kubectl get service\n",
    "\n",
    "NAME         TYPE        CLUSTER-IP   EXTERNAL-IP   PORT(S)   AGE\n",
    "\n",
    "kubernetes   ClusterIP   10.96.0.1    <none>        443/TCP   3m43s"
   ]
  },
  {
   "cell_type": "code",
   "execution_count": 7,
   "metadata": {},
   "outputs": [],
   "source": [
    "# Question 5 == kind load docker-image svizor42/zoomcamp-model:v001"
   ]
  },
  {
   "cell_type": "code",
   "execution_count": 8,
   "metadata": {},
   "outputs": [
    {
     "data": {
      "text/plain": [
       "'\\napiVersion: apps/v1\\n\\nkind: Deployment\\n\\nmetadata:\\n  name: credit-card\\nspec:\\n  replicas: 1\\n  selector:\\n    matchLabels:\\n      app: credit-card\\n  template:\\n    metadata:\\n      labels:\\n        app: credit-card\\n    spec:\\n      containers:\\n      - name: credit-card\\n        image: svizor42/zoomcamp-model:v001\\n        resources:\\n          requests:\\n            memory: \"64Mi\"\\n            cpu: \"100m\"\\n          limits:\\n            memory: \"128Mi\"\\n            cpu: \"500m\"\\n        ports:\\n        - containerPort: 9696\\n'"
      ]
     },
     "execution_count": 8,
     "metadata": {},
     "output_type": "execute_result"
    }
   ],
   "source": [
    "# Question 6\n",
    "\"\"\"\n",
    "apiVersion: apps/v1\n",
    "\n",
    "kind: Deployment\n",
    "\n",
    "metadata:\n",
    "  name: credit-card\n",
    "spec:\n",
    "  replicas: 1\n",
    "  selector:\n",
    "    matchLabels:\n",
    "      app: credit-card\n",
    "  template:\n",
    "    metadata:\n",
    "      labels:\n",
    "        app: credit-card\n",
    "    spec:\n",
    "      containers:\n",
    "      - name: credit-card\n",
    "        image: svizor42/zoomcamp-model:v001\n",
    "        resources:\n",
    "          requests:\n",
    "            memory: \"64Mi\"\n",
    "            cpu: \"100m\"\n",
    "          limits:\n",
    "            memory: \"128Mi\"\n",
    "            cpu: \"500m\"\n",
    "        ports:\n",
    "        - containerPort: 9696\n",
    "\"\"\""
   ]
  },
  {
   "cell_type": "code",
   "execution_count": 9,
   "metadata": {},
   "outputs": [],
   "source": [
    "# kubectl port-forward credit-card-56b8f7f4d8-qmff8 9696:9696\n",
    "# Forwarding from 127.0.0.1:9696 -> 9696\n",
    "# Forwarding from [::1]:9696 -> 9696"
   ]
  },
  {
   "cell_type": "code",
   "execution_count": 11,
   "metadata": {},
   "outputs": [
    {
     "data": {
      "text/plain": [
       "'\\nkubectl port-forward service/credit-card 8080:80\\nForwarding from 127.0.0.1:8080 -> 9696\\nForwarding from [::1]:8080 -> 9696\\n'"
      ]
     },
     "execution_count": 11,
     "metadata": {},
     "output_type": "execute_result"
    }
   ],
   "source": [
    "# Question 7\n",
    "\"\"\"\n",
    "apiVersion: v1\n",
    "kind: Service\n",
    "metadata:\n",
    "  name: credit-card\n",
    "spec:\n",
    "  type: LoadBalancer\n",
    "  selector:\n",
    "    app: credit-card\n",
    "  ports:\n",
    "  - port: 80\n",
    "    targetPort: 9696\n",
    "\n",
    "\"\"\"\n",
    "\"\"\"\n",
    "kubectl get service\n",
    "\n",
    "NAME          TYPE           CLUSTER-IP     EXTERNAL-IP   PORT(S)        AGE\n",
    "credit-card   LoadBalancer   10.96.187.23   <pending>     80:32499/TCP   87s\n",
    "kubernetes    ClusterIP      10.96.0.1      <none>        443/TCP        23m\n",
    "\"\"\"\n",
    "\n",
    "\"\"\"\n",
    "kubectl port-forward service/credit-card 9696:80\n",
    "Forwarding from 127.0.0.1:8080 -> 9696\n",
    "Forwarding from [::1]:8080 -> 9696\n",
    "\"\"\""
   ]
  },
  {
   "cell_type": "code",
   "execution_count": 12,
   "metadata": {},
   "outputs": [
    {
     "data": {
      "text/plain": [
       "'\\nkubectl apply -f https://github.com/kubernetes-sigs/metrics-server/releases/latest/download/components.yaml\\nIf the targets still appear as\\nkubectl edit deploy -n kube-system metrics-server\\n\\nAnd search for this line:\\nargs:\\n - --kubelet-preferred-address-types=InternalIP,ExternalIP,Hostname\\nAdd this line in the middle: - --kubelet-insecure-tls\\nSo that it stays like this:\\nargs:\\n\\n - --kubelet-insecure-tls\\n - --kubelet-preferred-address-types=InternalIP,ExternalIP,Hostname\\n\\nMonitoring\\nkubectl get hpa credit-card-hpa --watch\\n'"
      ]
     },
     "execution_count": 12,
     "metadata": {},
     "output_type": "execute_result"
    }
   ],
   "source": [
    "# Question 8 == 3\n",
    "\"\"\"\n",
    "kubectl apply -f https://github.com/kubernetes-sigs/metrics-server/releases/latest/download/components.yaml\n",
    "If the targets still appear as\n",
    "kubectl edit deploy -n kube-system metrics-server\n",
    "\n",
    "And search for this line:\n",
    "args:\n",
    " - --kubelet-preferred-address-types=InternalIP,ExternalIP,Hostname\n",
    "Add this line in the middle: - --kubelet-insecure-tls\n",
    "So that it stays like this:\n",
    "args:\n",
    "\n",
    " - --kubelet-insecure-tls\n",
    " - --kubelet-preferred-address-types=InternalIP,ExternalIP,Hostname\n",
    "\n",
    "Monitoring\n",
    "kubectl get hpa credit-card-hpa --watch\n",
    "\"\"\""
   ]
  }
 ],
 "metadata": {
  "kernelspec": {
   "display_name": "Python 3.10.6 64-bit",
   "language": "python",
   "name": "python3"
  },
  "language_info": {
   "codemirror_mode": {
    "name": "ipython",
    "version": 3
   },
   "file_extension": ".py",
   "mimetype": "text/x-python",
   "name": "python",
   "nbconvert_exporter": "python",
   "pygments_lexer": "ipython3",
   "version": "3.10.6"
  },
  "orig_nbformat": 4,
  "vscode": {
   "interpreter": {
    "hash": "916dbcbb3f70747c44a77c7bcd40155683ae19c65e1c03b4aa3499c5328201f1"
   }
  }
 },
 "nbformat": 4,
 "nbformat_minor": 2
}
