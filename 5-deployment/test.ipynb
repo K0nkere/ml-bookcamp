{
 "cells": [
  {
   "cell_type": "code",
   "execution_count": 18,
   "metadata": {},
   "outputs": [
    {
     "name": "stdout",
     "output_type": "stream",
     "text": [
      "0.213\n"
     ]
    }
   ],
   "source": [
    "import requests\n",
    "\n",
    "url = \"http://127.0.0.1:9696/predict\"\n",
    "\n",
    "client = {\n",
    "    \"reports\": 0,\n",
    "    \"share\": 0.245,\n",
    "    \"expenditure\": 3.438,\n",
    "    \"owner\": \"yes\"\n",
    "    }\n",
    "test = {\n",
    "    \"reports\": 0,\n",
    "    \"share\": 0.001694,\n",
    "    \"expenditure\": 0.12,\n",
    "    \"owner\": \"yes\"\n",
    "    }\n",
    "\n",
    "response = requests.post(\n",
    "                        url=url,\n",
    "                        json=test\n",
    "                        ).json()\n",
    "                    \n",
    "print(response)"
   ]
  },
  {
   "cell_type": "code",
   "execution_count": null,
   "metadata": {},
   "outputs": [],
   "source": []
  }
 ],
 "metadata": {
  "kernelspec": {
   "display_name": "Python 3.9.12 ('5-deployment-U3u-yXEI': pipenv)",
   "language": "python",
   "name": "python3"
  },
  "language_info": {
   "codemirror_mode": {
    "name": "ipython",
    "version": 3
   },
   "file_extension": ".py",
   "mimetype": "text/x-python",
   "name": "python",
   "nbconvert_exporter": "python",
   "pygments_lexer": "ipython3",
   "version": "3.9.12"
  },
  "orig_nbformat": 4,
  "vscode": {
   "interpreter": {
    "hash": "41185e340d1e3ce9136bf891273ba6ad37fcc0b8846845cbf733982fa8eada33"
   }
  }
 },
 "nbformat": 4,
 "nbformat_minor": 2
}
