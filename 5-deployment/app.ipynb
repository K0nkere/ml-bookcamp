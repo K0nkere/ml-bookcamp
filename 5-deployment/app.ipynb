{
 "cells": [
  {
   "cell_type": "code",
   "execution_count": 1,
   "metadata": {},
   "outputs": [],
   "source": [
    "import pickle\n",
    "from flask import Flask, request, jsonify\n",
    "\n",
    "with open(\"model1.bin\", \"rb\") as f_in:\n",
    "    model = pickle.load(f_in)\n",
    "\n",
    "with open(\"dv.bin\", \"rb\") as dv_in:\n",
    "    dv = pickle.load(dv_in)\n",
    "\n",
    "app = Flask(\"___Credit_card_predition_service___\")\n",
    "\n",
    "def prepare_features(record):\n",
    "    record_dict = dv.transform(record)\n",
    "    \n",
    "    return record_dict\n",
    "\n",
    "def predict_score(record_dict):\n",
    "    \n",
    "    score = model.predict_proba(record_dict)[:, 1]\n",
    "    return float(score[0])\n",
    "\n",
    "@app.route(\"/predict\", methods=[\"POST\"])\n",
    "def endpoint():\n",
    "    record = request.get_json()\n",
    "    \n",
    "    print(\"Get request\\n\", record)\n",
    "    \n",
    "    record_dict = prepare_features(record)\n",
    "    \n",
    "    score = round(predict_score(record_dict), 3)\n",
    "    print(score)\n",
    "\n",
    "    return jsonify(score)\n",
    "\n",
    "if __name__ == \"__main__\":\n",
    "\n",
    "    app.run(host=\"0.0.0.0\", debug=True, port=9696)\n"
   ]
  }
 ],
 "metadata": {
  "kernelspec": {
   "display_name": "Python 3.9.12 ('5-deployment-U3u-yXEI': pipenv)",
   "language": "python",
   "name": "python3"
  },
  "language_info": {
   "codemirror_mode": {
    "name": "ipython",
    "version": 3
   },
   "file_extension": ".py",
   "mimetype": "text/x-python",
   "name": "python",
   "nbconvert_exporter": "python",
   "pygments_lexer": "ipython3",
   "version": "3.9.12"
  },
  "orig_nbformat": 4,
  "vscode": {
   "interpreter": {
    "hash": "41185e340d1e3ce9136bf891273ba6ad37fcc0b8846845cbf733982fa8eada33"
   }
  }
 },
 "nbformat": 4,
 "nbformat_minor": 2
}
