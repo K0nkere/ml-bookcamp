{
 "cells": [
  {
   "cell_type": "code",
   "execution_count": 5,
   "metadata": {},
   "outputs": [],
   "source": [
    "import numpy as np\n",
    "import pandas as pd\n",
    "\n",
    "import pickle\n",
    "import matplotlib.pyplot as plt\n"
   ]
  },
  {
   "cell_type": "code",
   "execution_count": 6,
   "metadata": {},
   "outputs": [],
   "source": [
    "# \"sha256:08ef968f6b72033c16c479c966bf37ccd49b06ea91b765e1cc27afefe723920b\""
   ]
  },
  {
   "cell_type": "code",
   "execution_count": 11,
   "metadata": {},
   "outputs": [],
   "source": [
    "# Question 3\n",
    "\n",
    "with open(\"model1.bin\", \"rb\") as f_in:\n",
    "    model = pickle.load(f_in)\n",
    "\n",
    "with open(\"dv.bin\", \"rb\") as dv_in:\n",
    "    dv = pickle.load(dv_in)"
   ]
  },
  {
   "cell_type": "code",
   "execution_count": 16,
   "metadata": {},
   "outputs": [
    {
     "name": "stdout",
     "output_type": "stream",
     "text": [
      "[0.162]\n"
     ]
    }
   ],
   "source": [
    "test = {\n",
    "    \"reports\": 0,\n",
    "    \"share\": 0.001694,\n",
    "    \"expenditure\": 0.12,\n",
    "    \"owner\": \"yes\"\n",
    "    }\n",
    "\n",
    "dict_test = dv.transform(test)\n",
    "test_score = model.predict_proba(dict_test)[:, 1]\n",
    "\n",
    "print(test_score.round(3))"
   ]
  },
  {
   "cell_type": "code",
   "execution_count": null,
   "metadata": {},
   "outputs": [],
   "source": [
    "# Question 4\n",
    "import pickle\n",
    "from flask import Flask, request, jsonify\n",
    "\n",
    "with open(\"model1.bin\", \"rb\") as f_in:\n",
    "    model = pickle.load(f_in)\n",
    "\n",
    "with open(\"dv.bin\", \"rb\") as dv_in:\n",
    "    dv = pickle.load(dv_in)\n",
    "\n",
    "app = Flask(\"___Credit_card_predition_service___\")\n",
    "\n",
    "def prepare_features(record):\n",
    "    record_dict = dv.transform(record)\n",
    "    \n",
    "    return record_dict\n",
    "\n",
    "def predict_score(record_dict):\n",
    "    \n",
    "    score = model.predict_proba(record_dict)[:, 1]\n",
    "    return float(score[0])\n",
    "\n",
    "@app.route(\"/predict\", methods=[\"POST\"])\n",
    "def endpoint():\n",
    "    record = request.get_json()\n",
    "    \n",
    "    print(\"Get request\\n\", record)\n",
    "    \n",
    "    record_dict = prepare_features(record)\n",
    "    \n",
    "    score = round(predict_score(record_dict), 3)\n",
    "    print(score)\n",
    "\n",
    "    return jsonify(score)\n",
    "\n",
    "if __name__ == \"__main__\":\n",
    "\n",
    "    app.run(host=\"0.0.0.0\", debug=True, port=9696)\n"
   ]
  },
  {
   "cell_type": "code",
   "execution_count": 13,
   "metadata": {},
   "outputs": [
    {
     "data": {
      "text/plain": [
       "array([[0.12    , 0.      , 1.      , 0.      , 0.001694]])"
      ]
     },
     "execution_count": 13,
     "metadata": {},
     "output_type": "execute_result"
    }
   ],
   "source": [
    "import requests\n",
    "\n",
    "url = \"http://127.0.0.1:9696/predict\"\n",
    "\n",
    "client = {\n",
    "    \"reports\": 0,\n",
    "    \"share\": 0.245,\n",
    "    \"expenditure\": 3.438,\n",
    "    \"owner\": \"yes\"\n",
    "    }\n",
    "test = {\n",
    "    \"reports\": 0,\n",
    "    \"share\": 0.001694,\n",
    "    \"expenditure\": 0.12,\n",
    "    \"owner\": \"yes\"\n",
    "    }\n",
    "\n",
    "response = requests.post(\n",
    "                        url=url,\n",
    "                        json=client\n",
    "                        ).json()\n",
    "                    \n",
    "print(response)\n",
    "\n",
    "# 0.928"
   ]
  },
  {
   "cell_type": "code",
   "execution_count": null,
   "metadata": {},
   "outputs": [],
   "source": [
    "# Question 5\n",
    "# 125mb"
   ]
  },
  {
   "cell_type": "code",
   "execution_count": null,
   "metadata": {},
   "outputs": [],
   "source": [
    "# Question 6\n",
    "# 0.769"
   ]
  }
 ],
 "metadata": {
  "kernelspec": {
   "display_name": "Python 3.9.12 ('5-deployment-U3u-yXEI': pipenv)",
   "language": "python",
   "name": "python3"
  },
  "language_info": {
   "codemirror_mode": {
    "name": "ipython",
    "version": 3
   },
   "file_extension": ".py",
   "mimetype": "text/x-python",
   "name": "python",
   "nbconvert_exporter": "python",
   "pygments_lexer": "ipython3",
   "version": "3.9.12"
  },
  "orig_nbformat": 4,
  "vscode": {
   "interpreter": {
    "hash": "41185e340d1e3ce9136bf891273ba6ad37fcc0b8846845cbf733982fa8eada33"
   }
  }
 },
 "nbformat": 4,
 "nbformat_minor": 2
}
